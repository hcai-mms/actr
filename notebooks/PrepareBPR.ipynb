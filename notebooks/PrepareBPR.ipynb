{
 "cells": [
  {
   "cell_type": "markdown",
   "metadata": {},
   "source": [
    "# BPR matching preparation"
   ]
  },
  {
   "cell_type": "code",
   "execution_count": 7,
   "metadata": {
    "ExecuteTime": {
     "start_time": "2023-04-26T13:24:41.093854Z",
     "end_time": "2023-04-26T13:24:41.140635Z"
    }
   },
   "outputs": [],
   "source": [
    "import sys\n",
    "import pickle\n",
    "import numpy as np\n",
    "sys.path.append('..')\n",
    "from paths.paths import *\n",
    "datadir = f\"{BASE_FOLDER}/necessary_files/\"\n",
    "\n",
    "import pandas as pd"
   ]
  },
  {
   "cell_type": "code",
   "execution_count": 3,
   "metadata": {
    "colab": {
     "base_uri": "https://localhost:8080/"
    },
    "executionInfo": {
     "elapsed": 2066,
     "status": "ok",
     "timestamp": 1681071751718,
     "user": {
      "displayName": "Marta Christian",
      "userId": "04692417801997828083"
     },
     "user_tz": -120
    },
    "id": "TRp0paAelQTL",
    "outputId": "dd7e8891-323c-4a5a-f235-8f7da4f0b024",
    "ExecuteTime": {
     "start_time": "2023-04-26T13:18:53.614823Z",
     "end_time": "2023-04-26T13:19:13.523252Z"
    }
   },
   "outputs": [],
   "source": [
    "# skip padding item\n",
    "df_item_embeddings = pd.read_csv(f\"{datadir}BPR_item_embeddings.tsv\", sep='\\t', skiprows=[1])"
   ]
  },
  {
   "cell_type": "code",
   "execution_count": 4,
   "metadata": {
    "colab": {
     "base_uri": "https://localhost:8080/"
    },
    "executionInfo": {
     "elapsed": 7460,
     "status": "ok",
     "timestamp": 1681071392377,
     "user": {
      "displayName": "Marta Christian",
      "userId": "04692417801997828083"
     },
     "user_tz": -120
    },
    "id": "JWgdimJfmClZ",
    "outputId": "51d63613-6321-4b97-a38c-2323f92baef3",
    "ExecuteTime": {
     "start_time": "2023-04-26T13:19:42.036546Z",
     "end_time": "2023-04-26T13:19:43.023268Z"
    }
   },
   "outputs": [],
   "source": [
    "item_dictionary = pd.Series(df_item_embeddings.reset_index().index.values,\n",
    "                            index=df_item_embeddings.item_id.astype(int)).to_dict()"
   ]
  },
  {
   "cell_type": "code",
   "execution_count": 10,
   "metadata": {
    "colab": {
     "base_uri": "https://localhost:8080/",
     "height": 112
    },
    "executionInfo": {
     "elapsed": 261,
     "status": "ok",
     "timestamp": 1681072090971,
     "user": {
      "displayName": "Marta Christian",
      "userId": "04692417801997828083"
     },
     "user_tz": -120
    },
    "id": "38lJ76QfoiDK",
    "outputId": "4fbf2eca-3209-4be2-9d83-488a74fab8a8",
    "ExecuteTime": {
     "start_time": "2023-04-26T13:29:54.776867Z",
     "end_time": "2023-04-26T13:29:55.990581Z"
    }
   },
   "outputs": [],
   "source": [
    "item_embedding_matrix = df_item_embeddings.set_index('item_id').to_numpy()\n",
    "item_dictionary_df = pd.DataFrame(item_dictionary.items(), columns=['id', 'item_id'])\n",
    "# item_dictionary_df.to_csv(f'{datadir}/item_dictionary_df.csv', index=None)"
   ]
  },
  {
   "cell_type": "code",
   "execution_count": 9,
   "metadata": {
    "ExecuteTime": {
     "start_time": "2023-04-26T13:26:27.033974Z",
     "end_time": "2023-04-26T13:26:27.077109Z"
    }
   },
   "outputs": [],
   "source": [
    "#with open(f'{datadir}/item_dictionary.pkl', 'wb') as handle:\n",
    "#    pickle.dump(item_dictionary, handle, protocol=pickle.HIGHEST_PROTOCOL)"
   ]
  },
  {
   "cell_type": "code",
   "execution_count": 8,
   "outputs": [],
   "source": [
    "# np.save(f'{datadir}/item_embedding_matrix', item_embedding_matrix)"
   ],
   "metadata": {
    "collapsed": false,
    "ExecuteTime": {
     "start_time": "2023-04-26T13:24:48.835823Z",
     "end_time": "2023-04-26T13:24:53.255118Z"
    }
   }
  },
  {
   "cell_type": "markdown",
   "source": [
    "# END OF BPR PREPARATION"
   ],
   "metadata": {
    "collapsed": false
   }
  },
  {
   "cell_type": "code",
   "execution_count": null,
   "outputs": [],
   "source": [],
   "metadata": {
    "collapsed": false
   }
  }
 ],
 "metadata": {
  "colab": {
   "authorship_tag": "ABX9TyMz7/RjYvNsRC/B1tYV4NDe",
   "provenance": []
  },
  "kernelspec": {
   "display_name": "Python 3 (ipykernel)",
   "language": "python",
   "name": "python3"
  },
  "language_info": {
   "codemirror_mode": {
    "name": "ipython",
    "version": 3
   },
   "file_extension": ".py",
   "mimetype": "text/x-python",
   "name": "python",
   "nbconvert_exporter": "python",
   "pygments_lexer": "ipython3",
   "version": "3.8.13"
  }
 },
 "nbformat": 4,
 "nbformat_minor": 4
}
