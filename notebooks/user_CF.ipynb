{
 "cells": [
  {
   "cell_type": "markdown",
   "id": "be5c44cd-6088-42ad-9484-8d9f59e127c8",
   "metadata": {
    "id": "be5c44cd-6088-42ad-9484-8d9f59e127c8"
   },
   "source": [
    "# Generate the (recency-weighted) rating matrices\n",
    "(can be skipped if the files are already available)"
   ]
  },
  {
   "cell_type": "code",
   "execution_count": null,
   "id": "9693bda1-a9f7-417c-806f-11cb52424f4f",
   "metadata": {
    "colab": {
     "base_uri": "https://localhost:8080/"
    },
    "executionInfo": {
     "elapsed": 24641,
     "status": "ok",
     "timestamp": 1679253327564,
     "user": {
      "displayName": "Marta Christian",
      "userId": "04692417801997828083"
     },
     "user_tz": -60
    },
    "id": "9693bda1-a9f7-417c-806f-11cb52424f4f",
    "outputId": "8fd279a8-4248-441d-d1fe-dc2e3390d4b4"
   },
   "outputs": [],
   "source": [
    "import pandas as pd\n",
    "import pickle\n",
    "\n",
    "from models.actr import *\n",
    "from models.uknn import *\n",
    "\n",
    "from scipy import sparse\n",
    "from scipy.sparse import csr_matrix, coo_matrix, vstack\n",
    "\n",
    "import sys\n",
    "from utils.utils import load_file\n",
    "sys.path.append('..')\n",
    "from paths.paths import *\n",
    "datadir = f\"{BASE_FOLDER}/necessary_files/\""
   ]
  },
  {
   "cell_type": "code",
   "execution_count": null,
   "id": "b409d6be",
   "metadata": {
    "colab": {
     "base_uri": "https://localhost:8080/"
    },
    "executionInfo": {
     "elapsed": 251,
     "status": "ok",
     "timestamp": 1679254516932,
     "user": {
      "displayName": "Marta Christian",
      "userId": "04692417801997828083"
     },
     "user_tz": -60
    },
    "id": "b409d6be",
    "outputId": "51107598-a983-47f1-f788-dcdaa694138f"
   },
   "outputs": [],
   "source": [
    "# get users, needed to be ordered by ID, get items\n",
    "\n",
    "with open(datadir+\"users_above_threshold.pkl\", \"rb\") as f:\n",
    "    users_above_threshold = pickle.load(f)\n",
    "\n",
    "with open(datadir+'items_above_threshold_and_pad_2.pkl', 'rb') as f:\n",
    "     items_above_threshold = pickle.load(f)\n",
    "\n",
    "\n",
    "\n",
    "users_above_threshold.sort()\n",
    "users = users_above_threshold\n",
    "\n",
    "# df_users = pd.DataFrame(users)\n",
    "# df_users.to_csv(datadir+\"user_list.csv\")"
   ]
  },
  {
   "cell_type": "markdown",
   "id": "VtB9LO4Dj8sa",
   "metadata": {
    "id": "VtB9LO4Dj8sa"
   },
   "source": [
    "# Generate user-item matrix from train data"
   ]
  },
  {
   "cell_type": "code",
   "execution_count": null,
   "id": "7a5cb87a-d100-4453-a911-2d475caf74c8",
   "metadata": {},
   "outputs": [],
   "source": [
    "# Store the listening events of every user as an array\n",
    "# for later conversion to a matrix\n",
    "\n",
    "listi = []\n",
    "for test_user in users:\n",
    "    filename = datadir + f\"user_split/listening_events_2019_{test_user}.tsv\"\n",
    "    col_names = ['user', 'track_id', 'album_id', 'timestamp']\n",
    "    events = pd.read_csv(filename, names=col_names,\n",
    "                         quoting=3, sep=\"\\t\", header=None, encoding='utf-8'\n",
    "                         )\n",
    "    events = events[events[\"track_id\"].isin(items_above_threshold)]\n",
    "\n",
    "    listi = listi + (events['track_id'].unique().tolist())\n",
    "\n",
    "listi = list(dict.fromkeys(listi))"
   ]
  },
  {
   "cell_type": "code",
   "execution_count": null,
   "id": "5f12e8ef-ac26-45f9-a391-f7f9b118eaa6",
   "metadata": {
    "colab": {
     "base_uri": "https://localhost:8080/"
    },
    "executionInfo": {
     "elapsed": 5147502,
     "status": "ok",
     "timestamp": 1679178606281,
     "user": {
      "displayName": "Marta Christian",
      "userId": "04692417801997828083"
     },
     "user_tz": -60
    },
    "id": "5f12e8ef-ac26-45f9-a391-f7f9b118eaa6",
    "outputId": "de5485d4-493b-4dcc-a07a-f7c41080cea5"
   },
   "outputs": [],
   "source": [
    "df_dummies = pd.DataFrame(listi, columns=['track_id'])\n",
    "df_dummies['value'] = [0 for _ in range(len(df_dummies))]\n",
    "\n",
    "#start with 1 user and create dictionary, listening events will get value 1, non listening 0 via dummies, \n",
    "#events_ will be the user rating matrix\n",
    "for test_user in [2]:\n",
    "    df_dummies['user'] = [test_user for _ in range(len(df_dummies))]\n",
    "    filename = datadir + f\"user_split/listening_events_2019_{test_user}.tsv\"\n",
    "    events = load_file(filename)\n",
    "    events = events[events[\"track_id\"].isin(items_above_threshold)]\n",
    "    user_interactions = len(events)\n",
    "    n_test_int = user_interactions // 5\n",
    "    train, val, test = events[:-2 * n_test_int], events[-2 * n_test_int:-n_test_int], events[-n_test_int:]\n",
    "    events = train\n",
    "    events['value'] = [1 for _ in range(len(events))]\n",
    "    events = events[['track_id', 'value', 'user']]\n",
    "    events = events.append(df_dummies)\n",
    "    events_ = events.groupby(['user', 'track_id'])['value'].aggregate('sum').unstack(fill_value=0)\n",
    "    dictionary_track_id = pd.DataFrame(events_.columns.values.tolist(), columns=['track_id'])\n",
    "    dictionary_track_id.to_csv('dictionary_track_id_train.csv')\n",
    "\n",
    "    events_ = events_.to_numpy()\n",
    "    events_ = events_.reshape(1, -1)\n",
    "    events_ = coo_matrix(events_)\n",
    "\n",
    "users.remove(2)\n",
    "for test_user in users:\n",
    "    df_dummies['user'] = [test_user for _ in range(len(df_dummies))]\n",
    "    filename = datadir + f\"user_split/listening_events_2019_{test_user}.tsv\"\n",
    "    events = load_file(filename)\n",
    "    events = events[events[\"track_id\"].isin(items_above_threshold)]\n",
    "    user_interactions = len(events)\n",
    "    n_test_int = user_interactions // 5\n",
    "    train, val, test = events[:-2 * n_test_int], events[-2 * n_test_int:-n_test_int], events[-n_test_int:]\n",
    "    events = train\n",
    "    events['value'] = [1 for _ in range(len(events))]\n",
    "    events = events[['track_id', 'value', 'user']]\n",
    "    events = events.append(df_dummies)\n",
    "    events = events.groupby(['user', 'track_id'])['value'].aggregate('sum').unstack(fill_value=0)\n",
    "    events = events.to_numpy()\n",
    "    events = events.reshape(1, -1)\n",
    "    events = coo_matrix(events)\n",
    "    events_ = vstack([events_, events])\n",
    "    events_ = coo_matrix(events_)"
   ]
  },
  {
   "cell_type": "code",
   "execution_count": null,
   "id": "H-OxpTGSTtCY",
   "metadata": {
    "id": "H-OxpTGSTtCY"
   },
   "outputs": [],
   "source": [
    "events_ = csr_matrix(events_)\n",
    "sparse.save_npz(datadir+\"user_item_matrix_train.npz\", events_)"
   ]
  },
  {
   "cell_type": "markdown",
   "id": "N3_l8ii0jteT",
   "metadata": {
    "id": "N3_l8ii0jteT"
   },
   "source": [
    "# Generate ACT-R user-item matrix from train data"
   ]
  },
  {
   "cell_type": "code",
   "execution_count": null,
   "id": "28Py100Njm1E",
   "metadata": {
    "colab": {
     "base_uri": "https://localhost:8080/"
    },
    "executionInfo": {
     "elapsed": 12938,
     "status": "ok",
     "timestamp": 1679253439756,
     "user": {
      "displayName": "Marta Christian",
      "userId": "04692417801997828083"
     },
     "user_tz": -60
    },
    "id": "28Py100Njm1E",
    "outputId": "0f94c350-6692-4276-fc53-6956f4f2f529"
   },
   "outputs": [],
   "source": [
    "\n",
    "bll = BaseLevelComponent(decay=0.5)\n",
    "assoc = AssociativeComponent()\n",
    "\n",
    "\n",
    "def actr_score(bll, assoc, train, bpr='no_bpr'):\n",
    "    score_bll = bll.score(train)\n",
    "    score_assoc = assoc.score(train)\n",
    "    score_list = [score_assoc, score_bll]\n",
    "    scores = aggregate_scores(score_list, method='scoring')\n",
    "\n",
    "    return scores\n",
    "\n",
    "\n",
    "USE_CONTENT = False\n",
    "CALC_REWARD = False\n",
    "durations = None\n"
   ]
  },
  {
   "cell_type": "code",
   "execution_count": null,
   "id": "4baoxrsehFdu",
   "metadata": {
    "colab": {
     "base_uri": "https://localhost:8080/"
    },
    "executionInfo": {
     "elapsed": 6421137,
     "status": "ok",
     "timestamp": 1679261306217,
     "user": {
      "displayName": "Marta Christian",
      "userId": "04692417801997828083"
     },
     "user_tz": -60
    },
    "id": "4baoxrsehFdu",
    "outputId": "c0fd3839-39d6-412f-b8b0-0996cf2fd8cd"
   },
   "outputs": [],
   "source": [
    "#Actr-scores matrix of the train set (user-item matrix)\n",
    "\n",
    "listi = []  #this collects all items of any user and inserts 0 and will be appended to each users history to get the full user-item matrix\n",
    "for test_user in users:\n",
    "    filename = datadir + f\"user_split/listening_events_2019_{test_user}.tsv\"\n",
    "    col_names = ['user', 'track_id', 'album_id', 'timestamp']\n",
    "    events = pd.read_csv(filename, names=col_names,\n",
    "                         quoting=3, sep=\"\\t\", header=None, encoding='utf-8'\n",
    "                         )\n",
    "    events = events[events[\"track_id\"].isin(items_above_threshold)]\n",
    "\n",
    "    listi = listi + (events['track_id'].unique().tolist())\n",
    "\n",
    "listi = list(dict.fromkeys(listi))\n",
    "\n",
    "df_dummies = pd.DataFrame(listi, columns=['track_id'])\n",
    "df_dummies['value'] = [0 for _ in range(len(df_dummies))]\n",
    "print(df_dummies)\n",
    "\n",
    "for test_user in [2]:\n",
    "    df_dummies['user'] = [test_user for _ in range(len(df_dummies))]\n",
    "    filename = datadir + f\"user_split/listening_events_2019_{test_user}.tsv\"\n",
    "    events = load_file(filename)\n",
    "    events = events[events[\"track_id\"].isin(items_above_threshold)]\n",
    "    user_interactions = len(events)\n",
    "    n_test_int = user_interactions // 5\n",
    "    train, val, test = events[:-2 * n_test_int], events[-2 * n_test_int:-n_test_int], events[-n_test_int:]\n",
    "    # events = preprocess(train)\n",
    "    scores = actr_score(bll, assoc, train)\n",
    "    events = scores.reset_index()\n",
    "    events['user'] = [test_user for _ in range(len(events))]\n",
    "    events['track_id'] = events['index']\n",
    "    events['value'] = events[0]\n",
    "    events = events[['track_id', 'value', 'user']]\n",
    "    events = events.append(df_dummies)\n",
    "    events_ = events.groupby(['user', 'track_id'])['value'].aggregate('sum').unstack(fill_value=0)\n",
    "    dictionary_track_id = pd.DataFrame(events_.columns.values.tolist(), columns=['track_id'])\n",
    "    #dictionary_track_id.to_csv('dictionary_track_id_train.csv')\n",
    "\n",
    "    events_ = events_.to_numpy()\n",
    "    events_ = events_.reshape(1, -1)\n",
    "    events_ = coo_matrix(events_)\n",
    "\n",
    "users.remove(2)\n",
    "\n",
    "for test_user in users:\n",
    "    df_dummies['user'] = [test_user for _ in range(len(df_dummies))]\n",
    "    filename = datadir + f\"user_split/listening_events_2019_{test_user}.tsv\"\n",
    "    events = load_file(filename)\n",
    "    events = events[events[\"track_id\"].isin(items_above_threshold)]\n",
    "    user_interactions = len(events)\n",
    "    n_test_int = user_interactions // 5\n",
    "    train, val, test = events[:-2 * n_test_int], events[-2 * n_test_int:-n_test_int], events[-n_test_int:]\n",
    "    # events = preprocess(train)\n",
    "    scores = actr_score(bll, assoc, train)\n",
    "    events = scores.reset_index()\n",
    "    events['user'] = [test_user for _ in range(len(events))]\n",
    "    events['track_id'] = events['index']\n",
    "    events['value'] = events[0]\n",
    "    events = events[['track_id', 'value', 'user']]\n",
    "    events = events.append(df_dummies)\n",
    "    events = events.groupby(['user', 'track_id'])['value'].aggregate('sum').unstack(fill_value=0)\n",
    "    events = events.to_numpy()\n",
    "    events = events.reshape(1, -1)\n",
    "    events = coo_matrix(events)\n",
    "    events_ = vstack([events_, events])\n",
    "    events_ = coo_matrix(events_)"
   ]
  },
  {
   "cell_type": "code",
   "execution_count": null,
   "id": "8OapY-CbXEgi",
   "metadata": {
    "id": "8OapY-CbXEgi"
   },
   "outputs": [],
   "source": [
    "events_ = csr_matrix(events_)\n",
    "#sparse.save_npz(datadir+\"user_item_matrix_actr.npz\", events_)"
   ]
  },
  {
   "cell_type": "markdown",
   "id": "-BwfyBFzkTa9",
   "metadata": {
    "id": "-BwfyBFzkTa9"
   },
   "source": [
    "# Generate recency weighted user-item matrix from train data (not used in the paper)\n",
    " (can be skipped if the files are already available)"
   ]
  },
  {
   "cell_type": "code",
   "execution_count": null,
   "id": "q2w0tRBakPdJ",
   "metadata": {
    "id": "q2w0tRBakPdJ"
   },
   "outputs": [],
   "source": [
    "recency_para = 0\n",
    "\n",
    "listi = []  #this collects all items of any user and inserts 0 and will be appended to each users history to get the full user-item matrix\n",
    "\n",
    "i = 0\n",
    "for test_user in users:\n",
    "    filename = datadir + f\"user_split/listening_events_2019_{test_user}.tsv\"\n",
    "    col_names = ['user', 'track_id', 'album_id', 'timestamp']\n",
    "    events = pd.read_csv(filename, names=col_names,\n",
    "                         quoting=3, sep=\"\\t\", header=None, encoding='utf-8'\n",
    "                         )\n",
    "    events = events[events[\"track_id\"].isin(items_above_threshold)]\n",
    "    listi = listi + (events['track_id'].unique().tolist())\n",
    "    i += 1\n",
    "\n",
    "listi = list(dict.fromkeys(listi))\n",
    "\n",
    "df_dummies = pd.DataFrame(listi, columns=['track_id'])\n",
    "df_dummies['value'] = [0 for _ in range(len(df_dummies))]\n",
    "\n",
    "#start with 1 user and create dictionary, listening events will get value 1, non listening 0 via dummies, \n",
    "#events_ will be the user rating matrix\n",
    "for test_user in [2]:\n",
    "    df_dummies['user'] = [test_user for _ in range(len(df_dummies))]\n",
    "    filename = datadir + f\"user_split/listening_events_2019_{test_user}.tsv\"\n",
    "    events = load_file(filename)\n",
    "    events = events[events[\"track_id\"].isin(items_above_threshold)]\n",
    "    user_interactions = len(events)\n",
    "    n_test_int = user_interactions // 5\n",
    "    train, val, test = events[:-2 * n_test_int], events[-2 * n_test_int:-n_test_int], events[-n_test_int:]\n",
    "    events = train\n",
    "\n",
    "    events['value'] = [1 for _ in range(len(events))]\n",
    "    i = 0\n",
    "    length = len(events)\n",
    "    for index, row in events.iterrows():\n",
    "        events.at[index, 'value'] = (length - i) ** (-recency_para)\n",
    "        i += 1\n",
    "    events = events[['track_id', 'value', 'user']]\n",
    "    events = events.append(df_dummies)\n",
    "    events_ = events.groupby(['user', 'track_id'])['value'].aggregate('sum').unstack(fill_value=0)\n",
    "    dictionary_track_id = pd.DataFrame(events_.columns.values.tolist(), columns=['track_id'])\n",
    "    #dictionary_track_id.to_csv('dictionary_track_id_recency_500.csv')\n",
    "\n",
    "    events_ = events_.to_numpy()\n",
    "    events_ = events_.reshape(1, -1)\n",
    "    events_ = coo_matrix(events_)\n",
    "users.remove(2)\n",
    "for test_user in users:\n",
    "    df_dummies['user'] = [test_user for _ in range(len(df_dummies))]\n",
    "    filename = datadir + f\"user_split/listening_events_2019_{test_user}.tsv\"\n",
    "    events = load_file(filename)\n",
    "    events = events[events[\"track_id\"].isin(items_above_threshold)]\n",
    "    user_interactions = len(events)\n",
    "    n_test_int = user_interactions // 5\n",
    "    train, val, test = events[:-2 * n_test_int], events[-2 * n_test_int:-n_test_int], events[-n_test_int:]\n",
    "    events = train\n",
    "    events['value'] = [1 for _ in range(len(events))]\n",
    "    i = 0\n",
    "    length = len(events)\n",
    "    for index, row in events.iterrows():\n",
    "        events.at[index, 'value'] = (length - i) ** (-recency_para)\n",
    "        i += 1\n",
    "    events = events[['track_id', 'value', 'user']]\n",
    "    events = events.append(df_dummies)\n",
    "    events = events.groupby(['user', 'track_id'])['value'].aggregate('sum').unstack(fill_value=0)\n",
    "    events = events.to_numpy()\n",
    "    events = events.reshape(1, -1)\n",
    "    events = coo_matrix(events)\n",
    "    events_ = vstack([events_, events])\n",
    "    events_ = coo_matrix(events_)"
   ]
  }
 ],
 "metadata": {
  "colab": {
   "provenance": []
  },
  "gpuClass": "standard",
  "kernelspec": {
   "display_name": "recbole",
   "language": "python",
   "name": "recbole"
  },
  "language_info": {
   "codemirror_mode": {
    "name": "ipython",
    "version": 3
   },
   "file_extension": ".py",
   "mimetype": "text/x-python",
   "name": "python",
   "nbconvert_exporter": "python",
   "pygments_lexer": "ipython3",
   "version": "3.8.13"
  }
 },
 "nbformat": 4,
 "nbformat_minor": 5
}
